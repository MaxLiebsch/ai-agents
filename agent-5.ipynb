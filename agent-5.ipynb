{
 "cells": [
  {
   "cell_type": "code",
   "execution_count": 613,
   "id": "82a588d5",
   "metadata": {},
   "outputs": [],
   "source": [
    "from langgraph.graph import StateGraph, END\n",
    "from typing import TypedDict, List, Union\n",
    "import random"
   ]
  },
  {
   "cell_type": "code",
   "execution_count": 614,
   "id": "b3764f1b",
   "metadata": {},
   "outputs": [],
   "source": [
    "from typing import Literal\n",
    "\n",
    "\n",
    "class AgentState(TypedDict): \n",
    "    player_name: str\n",
    "    guesses: List[int] = []\n",
    "    attempts: int = 0\n",
    "    magic_number: int\n",
    "    lower_bound: int = 1\n",
    "    upper_bound: int = 20\n",
    "    hint: Union[Literal['higher', 'lower'],None]"
   ]
  },
  {
   "cell_type": "code",
   "execution_count": 615,
   "id": "75dfe59e",
   "metadata": {},
   "outputs": [],
   "source": [
    "def setup(state: AgentState) -> AgentState:\n",
    "    \"\"\"Setting up the game\"\"\"\n",
    "    state[\"player_name\"] = f\"Hey, {state['player_name']}, let's have a game!\"\n",
    "    print(state['player_name'])\n",
    "    return state\n",
    " \n",
    "def guess(state: AgentState) -> AgentState:\n",
    "    \"\"\"Perform guessing\"\"\"\n",
    "\n",
    "    if state['hint'] == 'higher' and len(state['guesses']) > 0:\n",
    "        state['lower_bound'] = state['guesses'][-1]\n",
    "    elif state['hint'] == 'lower' and len(state['guesses']) > 0:\n",
    "        state['upper_bound'] = state['guesses'][-1]\n",
    "\n",
    "    state['attempts'] += 1\n",
    "\n",
    "    guess = random.randint(state['lower_bound'], state['upper_bound'])\n",
    "\n",
    "    if guess not in state['guesses']:\n",
    "        state['guesses'].append(guess)\n",
    "    else:\n",
    "        state['guesses'].append(random.randint(state['lower_bound'], state['upper_bound']))   \n",
    "\n",
    "    return state\n",
    "\n",
    "def hint(state: AgentState) -> AgentState:\n",
    "   \"\"\"Hint\"\"\"\n",
    "   latest_guess = state['guesses'][-1]\n",
    "   if latest_guess > state['magic_number']:\n",
    "       state['hint'] = 'lower'\n",
    "   else: \n",
    "       state['hint'] = 'higher'\n",
    "\n",
    "   return state\n",
    "\n",
    "def should_continue(state: AgentState) -> AgentState: \n",
    "    \"\"\"Should continue\"\"\"\n",
    "    latest_guess = state['guesses'][-1]\n",
    "\n",
    "    if state['attempts'] >= 7:\n",
    "        print(f\"Damn, you lost the game! Start a new round.\")\n",
    "        return 'exit'\n",
    "\n",
    "    if state['magic_number'] == latest_guess:\n",
    "       print(f\"You have won in {state['attempts']}\")\n",
    "       return 'exit'\n",
    "\n",
    "    print(f\"Unfortunately, that was not correct! Please try again.\")\n",
    "\n",
    "    return 'try_again'\n"
   ]
  },
  {
   "cell_type": "code",
   "execution_count": 616,
   "id": "3164fb61",
   "metadata": {},
   "outputs": [],
   "source": [
    "graph = StateGraph(AgentState)\n",
    "\n",
    "graph.add_node('setup_node', setup)\n",
    "graph.add_node('guess_node', guess)\n",
    "graph.add_node('hint_node', hint)\n",
    "\n",
    "graph.set_entry_point('setup_node')\n",
    "\n",
    "graph.add_edge('setup_node', 'guess_node')\n",
    "graph.add_edge('guess_node', 'hint_node')\n",
    "\n",
    "graph.add_conditional_edges(\n",
    "    'hint_node',\n",
    "    should_continue,\n",
    "    {\n",
    "        'try_again': 'guess_node',\n",
    "        'exit': END\n",
    "    }\n",
    ")\n",
    "\n",
    "\n",
    "app = graph.compile()\n"
   ]
  },
  {
   "cell_type": "code",
   "execution_count": 617,
   "id": "db87f890",
   "metadata": {},
   "outputs": [
    {
     "data": {
      "image/png": "[encoded data removed]",
      "text/plain": [
       "<IPython.core.display.Image object>"
      ]
     },
     "metadata": {},
     "output_type": "display_data"
    }
   ],
   "source": [
    "from IPython.display import display, Image\n",
    "display(Image(app.get_graph().draw_mermaid_png()))"
   ]
  },
  {
   "cell_type": "code",
   "execution_count": 618,
   "id": "1260af51",
   "metadata": {},
   "outputs": [
    {
     "name": "stdout",
     "output_type": "stream",
     "text": [
      "Hey, Max, let's have a game!\n",
      "You have won in 1\n"
     ]
    },
    {
     "data": {
      "text/plain": [
       "{'player_name': \"Hey, Max, let's have a game!\",\n",
       " 'guesses': [5],\n",
       " 'attempts': 1,\n",
       " 'magic_number': 5,\n",
       " 'lower_bound': 1,\n",
       " 'upper_bound': 20,\n",
       " 'hint': 'higher'}"
      ]
     },
     "execution_count": 618,
     "metadata": {},
     "output_type": "execute_result"
    }
   ],
   "source": [
    "app.invoke({\n",
    "    'player_name': \"Max\",\n",
    "    'magic_number': 5,\n",
    "    'hint': None,\n",
    "    'upper_bound': 20,\n",
    "    'lower_bound': 1,\n",
    "    'guesses': [],\n",
    "    'attempts': 0\n",
    "    \n",
    "})\n",
    "\n"
   ]
  }
 ],
 "metadata": {
  "kernelspec": {
   "display_name": "Python 3",
   "language": "python",
   "name": "python3"
  },
  "language_info": {
   "codemirror_mode": {
    "name": "ipython",
    "version": 3
   },
   "file_extension": ".py",
   "mimetype": "text/x-python",
   "name": "python",
   "nbconvert_exporter": "python",
   "pygments_lexer": "ipython3",
   "version": "3.13.3"
  }
 },
 "nbformat": 4,
 "nbformat_minor": 5
}
